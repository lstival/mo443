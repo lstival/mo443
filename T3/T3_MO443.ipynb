{
  "nbformat": 4,
  "nbformat_minor": 0,
  "metadata": {
    "colab": {
      "name": "T3_MO443.ipynb",
      "provenance": [],
      "collapsed_sections": [],
      "authorship_tag": "ABX9TyMHUhT2LjoqwPkc59MEoGpS"
    },
    "kernelspec": {
      "name": "python3",
      "display_name": "Python 3"
    },
    "language_info": {
      "name": "python"
    }
  },
  "cells": [
    {
      "cell_type": "code",
      "execution_count": 1,
      "metadata": {
        "id": "4ivNiK-iZ4rd"
      },
      "outputs": [],
      "source": [
        "import numpy as np\n",
        "import cv2\n",
        "import matplotlib.pyplot as plt\n",
        "from collections import Counter\n",
        "from tqdm import tqdm"
      ]
    },
    {
      "cell_type": "code",
      "source": [
        "#https://www.ic.unicamp.br/~helio/videos_mp4/\n",
        "video_url = \"https://www.ic.unicamp.br/~helio/videos_mp4/indi009.mpg\"\n",
        "# video_url = \"https://www.ic.unicamp.br/~helio/videos_mp4/UGS09.mpg\"\n",
        "\n",
        "#https://www.ic.unicamp.br/~helio/disciplinas/MO443/trabalho3.pdf"
      ],
      "metadata": {
        "id": "JWj2VyizaTa4"
      },
      "execution_count": 2,
      "outputs": []
    },
    {
      "cell_type": "code",
      "source": [
        "video = cv2.VideoCapture(video_url)"
      ],
      "metadata": {
        "id": "P_CMfgiaaUQb"
      },
      "execution_count": 3,
      "outputs": []
    },
    {
      "cell_type": "code",
      "source": [
        "video_frames = []\n",
        "while(True):\n",
        "    # Capture frame-by-frame\n",
        "    ret, frame = video.read()\n",
        "    #print cap.isOpened(), ret\n",
        "    if frame is not None:\n",
        "        # Display the resulting frame\n",
        "        video_frames.append(frame)\n",
        "    else:\n",
        "        print (\"Frame is None\")\n",
        "        break\n",
        "\n",
        "# When everything done, release the capture\n",
        "# video.release()"
      ],
      "metadata": {
        "colab": {
          "base_uri": "https://localhost:8080/"
        },
        "id": "IQq-jxXiaVDx",
        "outputId": "3d3e627f-e806-43a9-9db6-eea75d778d59"
      },
      "execution_count": 4,
      "outputs": [
        {
          "output_type": "stream",
          "name": "stdout",
          "text": [
            "Frame is None\n"
          ]
        }
      ]
    },
    {
      "cell_type": "code",
      "source": [
        ""
      ],
      "metadata": {
        "id": "2pYM0fHjcxY9"
      },
      "execution_count": 20,
      "outputs": []
    },
    {
      "cell_type": "code",
      "source": [
        "def convert2gray(image):\n",
        "    gray_image = cv2.cvtColor(image, cv2.COLOR_BGR2GRAY)\n",
        "    return gray_image"
      ],
      "metadata": {
        "id": "Emxq_X9JelHP"
      },
      "execution_count": 6,
      "outputs": []
    },
    {
      "cell_type": "code",
      "source": [
        "def convert2BGR(image):\n",
        "    color_image = cv2.cvtColor(image, cv2.COLOR_GRAY2RGB)\n",
        "    return color_image"
      ],
      "metadata": {
        "id": "SIdZfTPRVVLQ"
      },
      "execution_count": 7,
      "outputs": []
    },
    {
      "cell_type": "code",
      "source": [
        "def convert2HSV(image):\n",
        "    hsv_image = cv2.cvtColor(image, cv2.COLOR_BGR2HSV)\n",
        "    return hsv_image"
      ],
      "metadata": {
        "id": "p5oh9hfghxkQ"
      },
      "execution_count": 8,
      "outputs": []
    },
    {
      "cell_type": "code",
      "source": [
        "def convert_from_HSV(image):\n",
        "    color_image = cv2.cvtColor(image, cv2.COLOR_HSV2BGR)\n",
        "    return color_image"
      ],
      "metadata": {
        "id": "oa4_v3a1io6T"
      },
      "execution_count": 9,
      "outputs": []
    },
    {
      "cell_type": "code",
      "source": [
        "hsv_video_frames = np.array(list(map(convert2HSV, video_frames)))"
      ],
      "metadata": {
        "id": "yF11FpvBhvIA"
      },
      "execution_count": 10,
      "outputs": []
    },
    {
      "cell_type": "code",
      "source": [
        "gray_video_frames = hsv_video_frames[:,:,:,2]"
      ],
      "metadata": {
        "id": "GiCgLjGDiIeY"
      },
      "execution_count": 11,
      "outputs": []
    },
    {
      "cell_type": "code",
      "source": [
        "gray_video_frames[0].shape"
      ],
      "metadata": {
        "id": "S-_LmuukeOrj",
        "colab": {
          "base_uri": "https://localhost:8080/"
        },
        "outputId": "61b2e44f-42af-4638-c5a2-6187927cfa83"
      },
      "execution_count": 13,
      "outputs": [
        {
          "output_type": "execute_result",
          "data": {
            "text/plain": [
              "(240, 320)"
            ]
          },
          "metadata": {},
          "execution_count": 13
        }
      ]
    },
    {
      "cell_type": "markdown",
      "source": [
        "## Diferença entre pixels\n"
      ],
      "metadata": {
        "id": "zJbueW9Qgk0Q"
      }
    },
    {
      "cell_type": "code",
      "source": [
        "def diff_betweens_pixels(gray_video_frames, T1=64, T2_tax = 0.8):\n",
        "    #First threshould\n",
        "\n",
        "    #Verify if 80% of pixels was changed\n",
        "    T2 = int(gray_video_frames[0].shape[0] * gray_video_frames[0].shape[1] * T2_tax)\n",
        "\n",
        "    #List with the diff between the frames\n",
        "    list_pixels_diff = []\n",
        "\n",
        "    #List with indexs where the pixel pass the secong threshould\n",
        "    list_over_T2 = []\n",
        "\n",
        "    print(range(len(gray_video_frames)-1))\n",
        "    for frame in tqdm(range(len(gray_video_frames)-1)):\n",
        "    \n",
        "        list_pixels_diff.append(np.unique(gray_video_frames[frame] - gray_video_frames[frame+1] > T1, return_counts=True)[1][1])\n",
        "    \n",
        "        if list_pixels_diff[frame] > T2:\n",
        "            list_over_T2.append(frame)\n",
        "\n",
        "    plot_hist_diff(list_pixels_diff, T2)\n",
        "\n",
        "    return list_over_T2"
      ],
      "metadata": {
        "id": "z5mvyy0UA7BS"
      },
      "execution_count": 14,
      "outputs": []
    },
    {
      "cell_type": "code",
      "source": [
        "def plot_hist_diff(list_pixels_diff, T2):\n",
        "    plt.plot(np.arange(len(list_pixels_diff)), list_pixels_diff)\n",
        "    plt.hlines(T2, 0, len(video_frames), colors='red', linestyles='solid')\n",
        "    plt.xlabel(\"Nº do frame\")\n",
        "    plt.ylabel(\"Qnt. de pixels com diferença superior a T1\")\n"
      ],
      "metadata": {
        "id": "47L-vWG_goGy"
      },
      "execution_count": 15,
      "outputs": []
    },
    {
      "cell_type": "markdown",
      "source": [
        "## Diferença entre Blocos"
      ],
      "metadata": {
        "id": "a2tOUezLvv2J"
      }
    },
    {
      "cell_type": "code",
      "source": [
        "def diff_betweens_boxes(gray_video_frames, T1_limiar=10, T2_limit=0.9, box_size=8):\n",
        "    #Limiar to MSE\n",
        "    T1 = len(gray_video_frames) / T1_limiar\n",
        "    \n",
        "    # T2 = len(gray_video_frames) * T2_limit\n",
        "\n",
        "    #List of frames that transpase the threshould T1\n",
        "    list_pixels_diff = []\n",
        "\n",
        "    #Loop in each frame\n",
        "    for frame in tqdm(range(len(gray_video_frames)-1)):\n",
        "        #Loop in rows\n",
        "        for row in range(int(gray_video_frames[frame].shape[0]/box_size)):\n",
        "            #Loop in collumns\n",
        "            for col in range(int(gray_video_frames[frame].shape[1]/box_size)):\n",
        "                #Get the box of actual frame and next, cast them in int to subtract\n",
        "                actual_frame = gray_video_frames[frame, row:row+8, col:col+8].astype(int)\n",
        "                next_frames = gray_video_frames[frame+1, row:row+8, col:col+8].astype(int)\n",
        "\n",
        "                #Calculate MSE between the boxs\n",
        "                norm = (1/(box_size*box_size))\n",
        "                box_diff =  norm * (np.sum(np.abs(actual_frame - next_frames) ** 2))\n",
        "\n",
        "                if box_diff > T1:\n",
        "                    list_pixels_diff.append(frame)\n",
        "\n",
        "    #List with diff pixel bigger than T2\n",
        "    list_diff_pixels_MSE = []\n",
        "    dict_pixels_diff = Counter(list_pixels_diff)\n",
        "\n",
        "    T2 = max(dict_pixels_diff.values())*T2_limit\n",
        "\n",
        "    #Loop to count how many boxes each frame have with diff.\n",
        "    for disct_frame, value in dict_pixels_diff.items():\n",
        "        if value > T2:\n",
        "            list_diff_pixels_MSE.append(disct_frame)\n",
        "\n",
        "    #Plot the distribution of MSE in frames\n",
        "    plot_hist_diff(np.array(list(dict_pixels_diff.values())), T2)\n",
        "\n",
        "    return list_diff_pixels_MSE"
      ],
      "metadata": {
        "id": "jUJZ3mP1ANB_"
      },
      "execution_count": 16,
      "outputs": []
    },
    {
      "cell_type": "code",
      "source": [
        ""
      ],
      "metadata": {
        "id": "bcwJu-V4UPOj"
      },
      "execution_count": 16,
      "outputs": []
    },
    {
      "cell_type": "markdown",
      "source": [
        "## Selecionando *Key frames*"
      ],
      "metadata": {
        "id": "gkQFyLzMItyE"
      }
    },
    {
      "cell_type": "code",
      "source": [
        "def get_colorfull_frames(list_of_frames, number_of_repeats=50):\n",
        "    # key_frames = np.array(gray_video_frames)[list_over_T2]\n",
        "    key_frames = np.array(hsv_video_frames[list_of_frames])\n",
        "\n",
        "    #Repeat the values of key frames to create a video\n",
        "    key_frames_pre_video = np.repeat(key_frames, number_of_repeats, axis=0)\n",
        "\n",
        "    #Convert frames to BGR\n",
        "    colorful_video_frames = np.array(list(map(convert_from_HSV, key_frames_pre_video)))\n",
        "\n",
        "    return colorful_video_frames"
      ],
      "metadata": {
        "id": "G75x1ax0oP71"
      },
      "execution_count": 17,
      "outputs": []
    },
    {
      "cell_type": "code",
      "source": [
        "# list_diff_pixels = diff_betweens_pixels(gray_video_frames, T1=64, T2_tax = 0.8)\n",
        "\n",
        "list_diff_pixels = diff_betweens_boxes(gray_video_frames, box_size=8)\n",
        "\n",
        "#Get the sequencia of color full frames\n",
        "colorful_video_frames = get_colorfull_frames(list_diff_pixels)"
      ],
      "metadata": {
        "colab": {
          "base_uri": "https://localhost:8080/",
          "height": 296
        },
        "id": "ffwVur2nI0v0",
        "outputId": "33fc5a70-eae1-4e11-908f-25c71bd4c834"
      },
      "execution_count": 18,
      "outputs": [
        {
          "output_type": "stream",
          "name": "stderr",
          "text": [
            "100%|██████████| 502/502 [00:13<00:00, 38.46it/s]\n"
          ]
        },
        {
          "output_type": "display_data",
          "data": {
            "text/plain": [
              "<Figure size 432x288 with 1 Axes>"
            ],
            "image/png": "[encoded data removed]"
          },
          "metadata": {
            "needs_background": "light"
          }
        }
      ]
    },
    {
      "cell_type": "code",
      "source": [
        "def save_video(colorful_video_frames, video_name='summary_video'):\n",
        "\n",
        "    size = gray_video_frames[0].shape\n",
        "    # duration = 2\n",
        "    fps = 25\n",
        "    out = cv2.VideoWriter(f'{video_name}.mp4', cv2.VideoWriter_fourcc(*'mp4v'), fps, (size[1], size[0]))\n",
        "\n",
        "    for i in range(len(colorful_video_frames)):\n",
        "        data = colorful_video_frames[i]\n",
        "        out.write(data)\n",
        "    out.release()"
      ],
      "metadata": {
        "id": "eNgt7hwxWrJB"
      },
      "execution_count": 19,
      "outputs": []
    },
    {
      "cell_type": "code",
      "source": [
        "save_video(colorful_video_frames)"
      ],
      "metadata": {
        "id": "TObPCRAbb-ho"
      },
      "execution_count": 20,
      "outputs": []
    }
  ]
}