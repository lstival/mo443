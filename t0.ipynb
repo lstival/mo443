{
 "cells": [
  {
   "cell_type": "code",
   "execution_count": 1,
   "id": "0ef7a8bf",
   "metadata": {},
   "outputs": [],
   "source": [
    "import numpy as np"
   ]
  },
  {
   "cell_type": "markdown",
   "id": "2904d927",
   "metadata": {},
   "source": [
    "## 1 - Contar o número de transições de Falso para Verdadeiro em uma sequência."
   ]
  },
  {
   "cell_type": "code",
   "execution_count": 2,
   "id": "59fff477",
   "metadata": {},
   "outputs": [],
   "source": [
    "x = np.array([False, True, False, False, True])"
   ]
  },
  {
   "cell_type": "code",
   "execution_count": null,
   "id": "ed281394",
   "metadata": {},
   "outputs": [],
   "source": []
  },
  {
   "cell_type": "markdown",
   "id": "721d8c5b",
   "metadata": {},
   "source": [
    "## 2 - Selecionar apenas números ímpares e eleva-os ao quadrado."
   ]
  },
  {
   "cell_type": "code",
   "execution_count": 3,
   "id": "dabebaaf",
   "metadata": {},
   "outputs": [],
   "source": [
    "x = np.array([1, 2, 3, 4])"
   ]
  },
  {
   "cell_type": "code",
   "execution_count": 4,
   "id": "8a845372",
   "metadata": {},
   "outputs": [
    {
     "data": {
      "text/plain": [
       "array([1, 9], dtype=int32)"
      ]
     },
     "execution_count": 4,
     "metadata": {},
     "output_type": "execute_result"
    }
   ],
   "source": [
    "x[x%2!=0] ** 2"
   ]
  },
  {
   "cell_type": "markdown",
   "id": "f843e169",
   "metadata": {},
   "source": [
    "## 3 - Somar todos os elementos divisíveis por 5."
   ]
  },
  {
   "cell_type": "code",
   "execution_count": 5,
   "id": "5d278487",
   "metadata": {},
   "outputs": [],
   "source": [
    "x = np.array([1, 5, 12, 15, 20, 22])"
   ]
  },
  {
   "cell_type": "code",
   "execution_count": 6,
   "id": "e8675615",
   "metadata": {},
   "outputs": [
    {
     "data": {
      "text/plain": [
       "40"
      ]
     },
     "execution_count": 6,
     "metadata": {},
     "output_type": "execute_result"
    }
   ],
   "source": [
    "sum(x[x%5==0])"
   ]
  },
  {
   "cell_type": "markdown",
   "id": "87106cdd",
   "metadata": {},
   "source": [
    "## 4 Somar cada n valores em um vetor."
   ]
  },
  {
   "cell_type": "code",
   "execution_count": 7,
   "id": "93f95a9d",
   "metadata": {},
   "outputs": [],
   "source": [
    "x = np.array([1, 2, 3, 4, 5, 6, 7, 8, 9, 10, 11, 12])\n",
    "n = 4"
   ]
  },
  {
   "cell_type": "code",
   "execution_count": 8,
   "id": "b9d22905",
   "metadata": {},
   "outputs": [],
   "source": [
    "x_len = len(x)/4"
   ]
  },
  {
   "cell_type": "code",
   "execution_count": 9,
   "id": "f1321d1e",
   "metadata": {},
   "outputs": [
    {
     "name": "stdout",
     "output_type": "stream",
     "text": [
      "0\n",
      "5\n",
      "19\n"
     ]
    }
   ],
   "source": [
    "temp_n = 0\n",
    "for i in range(int(x_len)):\n",
    "    print(sum(x[temp_n:temp_n+i]))\n",
    "    temp_n+=4"
   ]
  },
  {
   "cell_type": "markdown",
   "id": "a3dbf6a0",
   "metadata": {},
   "source": [
    "## 5 - Trocar todos os valores negativos em um vetor por zeros."
   ]
  },
  {
   "cell_type": "code",
   "execution_count": 10,
   "id": "76595135",
   "metadata": {},
   "outputs": [],
   "source": [
    "x = np.array([-3, -2, -1, 0, 1, 2, 3])"
   ]
  },
  {
   "cell_type": "code",
   "execution_count": 11,
   "id": "04496c5d",
   "metadata": {},
   "outputs": [
    {
     "data": {
      "text/plain": [
       "array([0, 0, 0, 0, 1, 2, 3])"
      ]
     },
     "execution_count": 11,
     "metadata": {},
     "output_type": "execute_result"
    }
   ],
   "source": [
    "x[x<0] = 0\n",
    "x"
   ]
  },
  {
   "cell_type": "markdown",
   "id": "8693ea03",
   "metadata": {},
   "source": [
    "##  6 - Contar número de valores pares em um vetor"
   ]
  },
  {
   "cell_type": "code",
   "execution_count": 12,
   "id": "1693ff1d",
   "metadata": {},
   "outputs": [],
   "source": [
    "x = np.array([1, 2, 3, 4, 5, 6, 7])"
   ]
  },
  {
   "cell_type": "code",
   "execution_count": 13,
   "id": "a9ff4c9d",
   "metadata": {},
   "outputs": [
    {
     "data": {
      "text/plain": [
       "3"
      ]
     },
     "execution_count": 13,
     "metadata": {},
     "output_type": "execute_result"
    }
   ],
   "source": [
    "len(x[x%2==0])"
   ]
  },
  {
   "cell_type": "markdown",
   "id": "f5d1d2eb",
   "metadata": {},
   "source": [
    "## 7 - Encontrar máximos (picos) locais."
   ]
  },
  {
   "cell_type": "code",
   "execution_count": 14,
   "id": "f351b3a1",
   "metadata": {},
   "outputs": [],
   "source": [
    "x = np.array([1, 2, 3, 4, 5, 4, 3, 2, 1, 2, 3, 2, 1, 2, 3, 4, 5, 6, 5, 4, 3, 2, 1])"
   ]
  },
  {
   "cell_type": "code",
   "execution_count": 15,
   "id": "957eca23",
   "metadata": {},
   "outputs": [
    {
     "data": {
      "text/plain": [
       "array([5, 3, 6])"
      ]
     },
     "execution_count": 15,
     "metadata": {},
     "output_type": "execute_result"
    }
   ],
   "source": [
    "x[1:-1][np.diff(np.diff(x)) < 0]"
   ]
  },
  {
   "cell_type": "markdown",
   "id": "d4159d7e",
   "metadata": {},
   "source": [
    "##  8 - Verificar se número (não negativo) é primo."
   ]
  },
  {
   "cell_type": "code",
   "execution_count": 16,
   "id": "9eb852a0",
   "metadata": {},
   "outputs": [],
   "source": [
    "def primo_teste(num):\n",
    "    if num> 1:  \n",
    "        for n in range(2,num):  \n",
    "            if (num % n) == 0:  \n",
    "                return False\n",
    "        return True\n",
    "    else:\n",
    "        return False"
   ]
  },
  {
   "cell_type": "code",
   "execution_count": 17,
   "id": "3d6ca0b0",
   "metadata": {},
   "outputs": [
    {
     "data": {
      "text/plain": [
       "True"
      ]
     },
     "execution_count": 17,
     "metadata": {},
     "output_type": "execute_result"
    }
   ],
   "source": [
    "primo_teste(31)"
   ]
  },
  {
   "cell_type": "code",
   "execution_count": null,
   "id": "1f4515dd",
   "metadata": {},
   "outputs": [],
   "source": []
  },
  {
   "cell_type": "code",
   "execution_count": null,
   "id": "c24a2934",
   "metadata": {},
   "outputs": [],
   "source": []
  },
  {
   "cell_type": "code",
   "execution_count": null,
   "id": "4897458d",
   "metadata": {},
   "outputs": [],
   "source": []
  }
 ],
 "metadata": {
  "kernelspec": {
   "display_name": "Python 3 (ipykernel)",
   "language": "python",
   "name": "python3"
  },
  "language_info": {
   "codemirror_mode": {
    "name": "ipython",
    "version": 3
   },
   "file_extension": ".py",
   "mimetype": "text/x-python",
   "name": "python",
   "nbconvert_exporter": "python",
   "pygments_lexer": "ipython3",
   "version": "3.9.7"
  }
 },
 "nbformat": 4,
 "nbformat_minor": 5
}
