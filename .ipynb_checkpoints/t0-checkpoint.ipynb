{
 "cells": [
  {
   "cell_type": "code",
   "execution_count": 1,
   "id": "dfa9e2b1",
   "metadata": {},
   "outputs": [],
   "source": [
    "import numpy as np"
   ]
  },
  {
   "cell_type": "markdown",
   "id": "2d839734",
   "metadata": {},
   "source": [
    "## 1 - Contar o número de transições de Falso para Verdadeiro em uma sequência."
   ]
  },
  {
   "cell_type": "code",
   "execution_count": 2,
   "id": "2a98be33",
   "metadata": {},
   "outputs": [],
   "source": [
    "x = np.array([False, True, False, False, True])"
   ]
  },
  {
   "cell_type": "code",
   "execution_count": null,
   "id": "fa49f0c1",
   "metadata": {},
   "outputs": [],
   "source": []
  },
  {
   "cell_type": "markdown",
   "id": "b97d5454",
   "metadata": {},
   "source": [
    "## 2 - Selecionar apenas números ímpares e eleva-os ao quadrado."
   ]
  },
  {
   "cell_type": "code",
   "execution_count": 3,
   "id": "7f665668",
   "metadata": {},
   "outputs": [],
   "source": [
    "x = np.array([1, 2, 3, 4])"
   ]
  },
  {
   "cell_type": "code",
   "execution_count": 4,
   "id": "faac12b1",
   "metadata": {},
   "outputs": [
    {
     "data": {
      "text/plain": [
       "array([1, 9], dtype=int32)"
      ]
     },
     "execution_count": 4,
     "metadata": {},
     "output_type": "execute_result"
    }
   ],
   "source": [
    "x[x%2!=0] ** 2"
   ]
  },
  {
   "cell_type": "markdown",
   "id": "706c5e43",
   "metadata": {},
   "source": [
    "## 3 - Somar todos os elementos divisíveis por 5."
   ]
  },
  {
   "cell_type": "code",
   "execution_count": 5,
   "id": "1bbc9d96",
   "metadata": {},
   "outputs": [],
   "source": [
    "x = np.array([1, 5, 12, 15, 20, 22])"
   ]
  },
  {
   "cell_type": "code",
   "execution_count": 6,
   "id": "5766f333",
   "metadata": {},
   "outputs": [
    {
     "data": {
      "text/plain": [
       "40"
      ]
     },
     "execution_count": 6,
     "metadata": {},
     "output_type": "execute_result"
    }
   ],
   "source": [
    "sum(x[x%5==0])"
   ]
  },
  {
   "cell_type": "markdown",
   "id": "84e488e6",
   "metadata": {},
   "source": [
    "## 4 Somar cada n valores em um vetor."
   ]
  },
  {
   "cell_type": "code",
   "execution_count": 7,
   "id": "b8039183",
   "metadata": {},
   "outputs": [],
   "source": [
    "x = np.array([1, 2, 3, 4, 5, 6, 7, 8, 9, 10, 11, 12])\n",
    "n = 4"
   ]
  },
  {
   "cell_type": "code",
   "execution_count": 8,
   "id": "5b34d6a9",
   "metadata": {},
   "outputs": [],
   "source": [
    "x_len = len(x)/4"
   ]
  },
  {
   "cell_type": "code",
   "execution_count": 9,
   "id": "3957846e",
   "metadata": {},
   "outputs": [
    {
     "name": "stdout",
     "output_type": "stream",
     "text": [
      "0\n",
      "5\n",
      "19\n"
     ]
    }
   ],
   "source": [
    "temp_n = 0\n",
    "for i in range(int(x_len)):\n",
    "    print(sum(x[temp_n:temp_n+i]))\n",
    "    temp_n+=4"
   ]
  },
  {
   "cell_type": "markdown",
   "id": "83120619",
   "metadata": {},
   "source": [
    "## 5 - Trocar todos os valores negativos em um vetor por zeros."
   ]
  },
  {
   "cell_type": "code",
   "execution_count": 10,
   "id": "5d69cda8",
   "metadata": {},
   "outputs": [],
   "source": [
    "x = np.array([-3, -2, -1, 0, 1, 2, 3])"
   ]
  },
  {
   "cell_type": "code",
   "execution_count": 11,
   "id": "35a7ea56",
   "metadata": {},
   "outputs": [
    {
     "data": {
      "text/plain": [
       "array([0, 0, 0, 0, 1, 2, 3])"
      ]
     },
     "execution_count": 11,
     "metadata": {},
     "output_type": "execute_result"
    }
   ],
   "source": [
    "x[x<0] = 0\n",
    "x"
   ]
  },
  {
   "cell_type": "markdown",
   "id": "2e1994df",
   "metadata": {},
   "source": [
    "##  6 - Contar número de valores pares em um vetor"
   ]
  },
  {
   "cell_type": "code",
   "execution_count": 12,
   "id": "e57708a9",
   "metadata": {},
   "outputs": [],
   "source": [
    "x = np.array([1, 2, 3, 4, 5, 6, 7])"
   ]
  },
  {
   "cell_type": "code",
   "execution_count": 13,
   "id": "eb2c7957",
   "metadata": {},
   "outputs": [
    {
     "data": {
      "text/plain": [
       "3"
      ]
     },
     "execution_count": 13,
     "metadata": {},
     "output_type": "execute_result"
    }
   ],
   "source": [
    "len(x[x%2==0])"
   ]
  },
  {
   "cell_type": "markdown",
   "id": "3b5d84ae",
   "metadata": {},
   "source": [
    "## 7 - Encontrar máximos (picos) locais."
   ]
  },
  {
   "cell_type": "code",
   "execution_count": 14,
   "id": "2eb0bef8",
   "metadata": {},
   "outputs": [],
   "source": [
    "x = np.array([1, 2, 3, 4, 5, 4, 3, 2, 1, 2, 3, 2, 1, 2, 3, 4, 5, 6, 5, 4, 3, 2, 1])"
   ]
  },
  {
   "cell_type": "code",
   "execution_count": 61,
   "id": "d4b501a3",
   "metadata": {},
   "outputs": [
    {
     "data": {
      "text/plain": [
       "array([5, 3, 6])"
      ]
     },
     "execution_count": 61,
     "metadata": {},
     "output_type": "execute_result"
    }
   ],
   "source": [
    "x[1:-1][np.diff(np.diff(x)) < 0]"
   ]
  },
  {
   "cell_type": "markdown",
   "id": "70bf9434",
   "metadata": {},
   "source": [
    "##  8 - Verificar se número (não negativo) é primo."
   ]
  },
  {
   "cell_type": "code",
   "execution_count": 74,
   "id": "7026d704",
   "metadata": {},
   "outputs": [],
   "source": [
    "def primo_teste(num):\n",
    "    if num> 1:  \n",
    "        for n in range(2,num):  \n",
    "            if (num % n) == 0:  \n",
    "                return False\n",
    "        return True\n",
    "    else:\n",
    "        return False"
   ]
  },
  {
   "cell_type": "code",
   "execution_count": 75,
   "id": "680cebdc",
   "metadata": {},
   "outputs": [
    {
     "data": {
      "text/plain": [
       "True"
      ]
     },
     "execution_count": 75,
     "metadata": {},
     "output_type": "execute_result"
    }
   ],
   "source": [
    "primo_teste(31)"
   ]
  },
  {
   "cell_type": "code",
   "execution_count": null,
   "id": "e494e29c",
   "metadata": {},
   "outputs": [],
   "source": []
  },
  {
   "cell_type": "code",
   "execution_count": null,
   "id": "e7d9df6b",
   "metadata": {},
   "outputs": [],
   "source": []
  },
  {
   "cell_type": "code",
   "execution_count": null,
   "id": "46c90f75",
   "metadata": {},
   "outputs": [],
   "source": []
  }
 ],
 "metadata": {
  "kernelspec": {
   "display_name": "Python 3 (ipykernel)",
   "language": "python",
   "name": "python3"
  },
  "language_info": {
   "codemirror_mode": {
    "name": "ipython",
    "version": 3
   },
   "file_extension": ".py",
   "mimetype": "text/x-python",
   "name": "python",
   "nbconvert_exporter": "python",
   "pygments_lexer": "ipython3",
   "version": "3.9.7"
  }
 },
 "nbformat": 4,
 "nbformat_minor": 5
}
